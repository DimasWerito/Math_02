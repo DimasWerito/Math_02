{
  "nbformat": 4,
  "nbformat_minor": 0,
  "metadata": {
    "colab": {
      "provenance": [],
      "include_colab_link": true
    },
    "kernelspec": {
      "name": "python3",
      "display_name": "Python 3"
    },
    "language_info": {
      "name": "python"
    }
  },
  "cells": [
    {
      "cell_type": "markdown",
      "metadata": {
        "id": "view-in-github",
        "colab_type": "text"
      },
      "source": [
        "<a href=\"https://colab.research.google.com/github/DimasWerito/Math_02/blob/main/%D0%9F%D1%80%D0%B0%D0%BA%D1%82%D0%B8%D1%87%D0%BD%D1%96_%D0%B2%D0%BF%D1%80%D0%B0%D0%B2%D0%B8_%D0%BD%D0%B0_%D0%B7%D0%B0%D0%BD%D1%8F%D1%82%D1%82%D1%8F_2_ipynb%22.ipynb\" target=\"_parent\"><img src=\"https://colab.research.google.com/assets/colab-badge.svg\" alt=\"Open In Colab\"/></a>"
      ]
    },
    {
      "cell_type": "markdown",
      "source": [
        "#Розв'язання рівнянь із використанням матриць"
      ],
      "metadata": {
        "id": "YUF47db79LlZ"
      }
    },
    {
      "cell_type": "markdown",
      "metadata": {
        "colab_type": "toc",
        "id": "4eOp5WAxClBp"
      },
      "source": [
        ">[Розв'язання рівнянь із використанням матриць](#scrollTo=YUF47db79LlZ)\n",
        "\n",
        ">>[Матричний запис рівняння](#scrollTo=fA1qh_MhjHL5)\n",
        "\n",
        ">>[Обрахунок визначника](#scrollTo=TLLV9reOjsIK)\n",
        "\n",
        ">>[Обернена матриця](#scrollTo=NnaVHRnLjvUJ)\n",
        "\n",
        ">>[Розв'язання СЛАР](#scrollTo=ajIp3eGqjwDG)\n",
        "\n",
        ">>[Матричне рівняння](#scrollTo=h_g4cqYrmZrZ)\n",
        "\n",
        ">>[Метод Крамера](#scrollTo=j72LZYoVmdsB)\n",
        "\n",
        ">>[Метод Гаусса](#scrollTo=mZNwWtEv-rtw)\n",
        "\n",
        ">[Обчислення визначника з трикутної матриці](#scrollTo=VId4AHzAN-Az)\n",
        "\n"
      ]
    },
    {
      "cell_type": "markdown",
      "source": [
        "## Матричний запис рівняння\n",
        "Зробіть матричний запис наступних рівнянь:  \n",
        "$\n",
        "\\begin{cases}\n",
        "5x + z = 65 \\\\\n",
        "-x - 4y + 1z = 25 \\\\\n",
        "4x + 3y + 6z = 30 \\end{cases}\n",
        "$\n",
        "\n",
        "$\n",
        "\\begin{cases}\n",
        "5x = 65 \\\\\n",
        "4y + z = 25 \\\\\n",
        "4x + y  = 30 \\end{cases}\n",
        "$\n",
        "\n",
        "$\n",
        "\\begin{cases}\n",
        "5x + k = 65 \\\\\n",
        "4y + z + k = 25 \\\\\n",
        "k = 25 \\\\\n",
        "4x + y  = 30 \\end{cases}\n",
        "$\n",
        "\n",
        "**Додаткове завдання:**\n",
        "1. Напишіть програму, яка генерує приклади рівнянь для запису їх у вигляді матриць.\n",
        "2. Яка умова має виконуватись, щоб система лініших алгебраїчних рівнянь мала розв'язок?\n",
        "\n",
        "\n",
        "\n",
        "\n"
      ],
      "metadata": {
        "id": "fA1qh_MhjHL5"
      }
    },
    {
      "cell_type": "markdown",
      "source": [
        "Спробуємо розробити універсальні функції для перетворення записанних строкових рівнянь у відповідні матриці"
      ],
      "metadata": {
        "id": "4cdgcLlnfq6T"
      }
    },
    {
      "cell_type": "code",
      "source": [
        "import numpy as np"
      ],
      "metadata": {
        "id": "fmUL1RSyUcE-"
      },
      "execution_count": null,
      "outputs": []
    },
    {
      "cell_type": "markdown",
      "source": [
        "Суттєвим елементом таких функцій буде функція split()"
      ],
      "metadata": {
        "id": "27D7TC5qf56p"
      }
    },
    {
      "cell_type": "code",
      "source": [
        "eqs = ['5x + z = 65', '-1x - 4y + 1z = 25', '4x + 3y + 6z = 30']\n",
        "variables = ['x', 'y', 'z']\n",
        "left = eqs[0].split('=')[0]\n",
        "right = eqs[0].split('=')[1]\n",
        "\n",
        "print(eqs[1].split('y'))\n"
      ],
      "metadata": {
        "id": "e_ubrhwfSM0s",
        "colab": {
          "base_uri": "https://localhost:8080/"
        },
        "outputId": "61c2b53f-0dd9-4fc9-d733-4237b932fc2d"
      },
      "execution_count": null,
      "outputs": [
        {
          "output_type": "stream",
          "name": "stdout",
          "text": [
            "['-1x - 4', ' + 1z = 25']\n"
          ]
        }
      ]
    },
    {
      "cell_type": "code",
      "source": [
        "def replace_space(lst, old_char, new_char):\n",
        "    new_list = [s.replace(old_char, new_char) for s in lst]\n",
        "    return new_list"
      ],
      "metadata": {
        "id": "ZAd29Dp5ZRFR"
      },
      "execution_count": null,
      "outputs": []
    },
    {
      "cell_type": "code",
      "source": [
        "def create_linear_system(equations, variables):\n",
        "\n",
        "    equations = replace_space(equations, '- ', '-')\n",
        "    num_equations = len(equations)\n",
        "    num_variables = len(variables)\n",
        "\n",
        "    coeff_matrix = np.zeros((num_equations, num_variables))\n",
        "    right_coeff = np.zeros(num_equations)\n",
        "\n",
        "    for i, equation in enumerate(equations):\n",
        "        terms = equation.split()\n",
        "        for term in terms:\n",
        "            for j, variable in enumerate(variables):\n",
        "                if variable in term:\n",
        "                    coeff = term.split(variable)[0]\n",
        "                    if coeff:\n",
        "                        coeff_matrix[i, j] = float(coeff)\n",
        "                    else:\n",
        "                        coeff_matrix[i, j] = 1\n",
        "        right_coeff[i] = float(equation.split('=')[1])\n",
        "\n",
        "    return coeff_matrix, right_coeff\n",
        "\n"
      ],
      "metadata": {
        "id": "N_6hDsa2T03X"
      },
      "execution_count": 1,
      "outputs": []
    },
    {
      "cell_type": "code",
      "source": [
        "equations = ['5x + z = 65', '-1x - 4y + z = 25', '4x + 3y + 6z = 30']\n",
        "variables = ['x', 'y', 'z']\n",
        "\n",
        "create_linear_system(equations, variables)"
      ],
      "metadata": {
        "colab": {
          "base_uri": "https://localhost:8080/"
        },
        "id": "hAMYZxfmX-aE",
        "outputId": "b2deb927-8ec9-4a8d-9ad3-ec10ea93d13f"
      },
      "execution_count": null,
      "outputs": [
        {
          "output_type": "execute_result",
          "data": {
            "text/plain": [
              "(array([[ 5.,  0.,  1.],\n",
              "        [-1., -4.,  1.],\n",
              "        [ 4.,  3.,  6.]]),\n",
              " array([65., 25., 30.]))"
            ]
          },
          "metadata": {},
          "execution_count": 5
        }
      ]
    },
    {
      "cell_type": "markdown",
      "source": [
        "## Обчислення визначника\n",
        "Обрахуйте наступні визначники:  \n",
        "1. $\\begin{vmatrix}\n",
        "−2& −3 &1 \\\\\n",
        "0 &1& 4\\\\\n",
        "2& −2& 0\\end{vmatrix}$  \n",
        "2. $\\begin{vmatrix}\n",
        "3&2 &1& 3\\\\\n",
        "1& 3& 0& 4\\\\\n",
        "0& −2& 2& 1\\\\\n",
        "2& 4& 0& 5\n",
        "\\end{vmatrix} $.\n",
        "\n",
        "3.\n",
        "$\\begin{vmatrix}\n",
        "−2& 3& 2 &−1\\\\\n",
        "3& 0 &1 &2\\\\\n",
        "1& 2& 0 &1\\\\\n",
        "5& 0 &7 &−3\n",
        "\\end{vmatrix} $.\n",
        "\n"
      ],
      "metadata": {
        "id": "TLLV9reOjsIK"
      }
    },
    {
      "cell_type": "code",
      "source": [
        "A = np.array([[-2, -3, 1],\n",
        "                        [0, 1, 4],\n",
        "                        [2, -2, 0]])\n",
        "np.linalg.det(A)"
      ],
      "metadata": {
        "colab": {
          "base_uri": "https://localhost:8080/"
        },
        "id": "Ox4_wzz4c_hU",
        "outputId": "895c40f6-c756-4a5c-96ff-1bc2fedcccfe"
      },
      "execution_count": null,
      "outputs": [
        {
          "output_type": "execute_result",
          "data": {
            "text/plain": [
              "-41.999999999999986"
            ]
          },
          "metadata": {},
          "execution_count": 6
        }
      ]
    },
    {
      "cell_type": "markdown",
      "source": [
        "## Обчислення визначника через алгебраїчні доповнення"
      ],
      "metadata": {
        "id": "K3ZBv9YzhDTH"
      }
    },
    {
      "cell_type": "code",
      "source": [
        "\n",
        "def submatrix(matrix, row, col):\n",
        "    return np.delete(np.delete(matrix, row, axis=0), col, axis=1)\n",
        "\n",
        "\n",
        "def minor(matrix, i, j):\n",
        "    # Обчислюємо мінор для елемента у рядку i та стовпці j\n",
        "    return determinant(submatrix(matrix, i, j))\n",
        "\n",
        "def determinant(matrix):\n",
        "    # Базовий випадок - для матриці 1x1\n",
        "    if len(matrix) == 1:\n",
        "        return matrix[0][0]\n",
        "\n",
        "    det = 0\n",
        "    for j in range(len(matrix[0])):\n",
        "        # Обчислюємо алгебраїчний доповнення для кожного елемента першого рядка\n",
        "        sign = (-1) ** j\n",
        "        cofactor = matrix[0][j]\n",
        "        det += sign * cofactor * minor(matrix, 0, j)\n",
        "    return det\n",
        "\n"
      ],
      "metadata": {
        "id": "2HdWRFQ2gM65"
      },
      "execution_count": null,
      "outputs": []
    },
    {
      "cell_type": "code",
      "source": [
        "determinant(A)"
      ],
      "metadata": {
        "colab": {
          "base_uri": "https://localhost:8080/"
        },
        "id": "UMdRIxf1hkK6",
        "outputId": "1478c863-6ff0-4c89-9b7a-05e96209c7ca"
      },
      "execution_count": null,
      "outputs": [
        {
          "output_type": "execute_result",
          "data": {
            "text/plain": [
              "-42"
            ]
          },
          "metadata": {},
          "execution_count": 8
        }
      ]
    },
    {
      "cell_type": "code",
      "source": [],
      "metadata": {
        "id": "UuP4vhkHhOYM"
      },
      "execution_count": null,
      "outputs": []
    },
    {
      "cell_type": "markdown",
      "source": [
        "## Обернена матриця\n",
        "Знайдіть обернені матриці. Перевірте себе (добуток матриці та її оберненої матриці дорівнює одиничній матриці)\n",
        "\n",
        "$A=\\begin{pmatrix}\n",
        "−1 &0 &3\\\\\n",
        "6& 3& −1\\\\\n",
        "3 &−2 &−3\n",
        "\\end{pmatrix}$\n",
        "\n",
        "\n",
        "$B=\\begin{pmatrix}\n",
        "−1& −2& −2\\\\\n",
        "3 &3 &1\\\\\n",
        "2 &0& −3\n",
        "\\end{pmatrix}$\n",
        "\n",
        "$C=\\begin{pmatrix}\n",
        "3 &0 &−1\\\\\n",
        "2& 5& 2\\\\\n",
        "−1& 2 &7\n",
        "\\end{pmatrix}$\n",
        "\n",
        "**Додаткове завдання:**\n",
        "1. Напишіть програму обчислення оберненої матриці до заданої.\n"
      ],
      "metadata": {
        "id": "NnaVHRnLjvUJ"
      }
    },
    {
      "cell_type": "code",
      "source": [
        "def inverse(matrix):\n",
        "    det = determinant(matrix)\n",
        "    if det == 0:\n",
        "        raise ValueError(\"Матриця є сингулярною (не має оберненої матриці).\")\n",
        "\n",
        "    n = len(matrix)\n",
        "    # Coюзна (доповнена) матриця\n",
        "    adjugate = [[(-1)**(i+j) * minor(matrix, i, j) for j in range(n)] for i in range(n)]\n",
        "    adjugate_transpose = [[adjugate[j][i] for j in range(n)] for i in range(n)]\n",
        "\n",
        "    inverse_matrix = [[adjugate_transpose[i][j] / det for j in range(n)] for i in range(n)]\n",
        "    return inverse_matrix\n",
        "\n"
      ],
      "metadata": {
        "id": "aVSZZfZ9jAD8"
      },
      "execution_count": null,
      "outputs": []
    },
    {
      "cell_type": "code",
      "source": [
        "inverse(A)"
      ],
      "metadata": {
        "colab": {
          "base_uri": "https://localhost:8080/"
        },
        "id": "jq9M9QTBkXga",
        "outputId": "f842e885-cbd2-4c6a-ec95-17cdcec7af45"
      },
      "execution_count": null,
      "outputs": [
        {
          "output_type": "execute_result",
          "data": {
            "text/plain": [
              "[[-0.19047619047619047, 0.047619047619047616, 0.30952380952380953],\n",
              " [-0.19047619047619047, 0.047619047619047616, -0.19047619047619047],\n",
              " [0.047619047619047616, 0.23809523809523808, 0.047619047619047616]]"
            ]
          },
          "metadata": {},
          "execution_count": 10
        }
      ]
    },
    {
      "cell_type": "code",
      "source": [
        "np.linalg.inv(A)"
      ],
      "metadata": {
        "colab": {
          "base_uri": "https://localhost:8080/"
        },
        "id": "lihe0ZEVkeR7",
        "outputId": "96e082bb-839c-4ac4-9318-55303db6a9ef"
      },
      "execution_count": null,
      "outputs": [
        {
          "output_type": "execute_result",
          "data": {
            "text/plain": [
              "array([[-0.19047619,  0.04761905,  0.30952381],\n",
              "       [-0.19047619,  0.04761905, -0.19047619],\n",
              "       [ 0.04761905,  0.23809524,  0.04761905]])"
            ]
          },
          "metadata": {},
          "execution_count": 11
        }
      ]
    },
    {
      "cell_type": "markdown",
      "source": [
        "## Розв'язання СЛАР\n",
        "\n",
        "$\n",
        "\\begin{cases}\n",
        "3 x+2 y+ z=5 \\\\\n",
        "2 x−y+z=6 \\\\\n",
        "x+5 y=−3.\\end{cases}\n",
        "$\n",
        "\n",
        "$\n",
        "\\begin{cases}\n",
        "2 x_{{1}}−3 x_{{2}}+4 x_{{3}}=5\\\\\n",
        "3 x_{{1}}+ x_{{2}}+ x_{{3}}=8\\\\\n",
        "4 x _{{1}}−2 x_{{2}}−3 x_{{3}}=3.\\end{cases}$\n",
        "  \n",
        "\n",
        "* Чи є якась відмінність при вирішенні СЛАР при записі невідомих через $x,y,z$ та через $x_{{1}},x_{{2}},x_{{3}}$?\n",
        "\n",
        "\n",
        "\n",
        "$\n",
        "\\begin{cases}\n",
        "3 x_{{1}}−2 x_{{2}}+x_{{3}}=4\\\\\n",
        "x_{{1}}+x_{{3}}=2\\\\\n",
        "x_{{1}}-2 x_{{2}}−x_{{3}}=4.\\end{cases}\n",
        "$\n",
        "\n",
        "**Додаткове завдання:**\n",
        "1. Напишіть програму вирішення систем алгебраїчних рівнянь матричним методом.\n",
        "2. Напишіть програму вирішення систем алгебраїчних рівнянь методом Гауса."
      ],
      "metadata": {
        "id": "ajIp3eGqjwDG"
      }
    },
    {
      "cell_type": "markdown",
      "source": [
        "##Матричне рівняння"
      ],
      "metadata": {
        "id": "h_g4cqYrmZrZ"
      }
    },
    {
      "cell_type": "code",
      "source": [
        "equations = ['3x + 2y + z = 5', '2x - 1y + z = 6', 'x + 5y = -3']\n",
        "vars = ['x', 'y', 'z']\n",
        "A, b = create_linear_system(equations, vars)"
      ],
      "metadata": {
        "id": "gQkViTfjkq4X"
      },
      "execution_count": null,
      "outputs": []
    },
    {
      "cell_type": "markdown",
      "source": [
        "Розв'язок матричного рівняння $ AX = b $\n",
        "\n",
        "$ A^{-1} AX = A^{-1}b$,\n",
        "\n",
        "отже\n",
        "\n",
        "$ X = A^{-1}b $"
      ],
      "metadata": {
        "id": "KZp-uyMDlXRR"
      }
    },
    {
      "cell_type": "code",
      "source": [
        "A_inv = inverse(A)\n",
        "A_inv"
      ],
      "metadata": {
        "colab": {
          "base_uri": "https://localhost:8080/"
        },
        "id": "thUehoU1lT6m",
        "outputId": "7f8cb190-f412-4cf9-b8f9-1d7beaf7e787"
      },
      "execution_count": null,
      "outputs": [
        {
          "output_type": "execute_result",
          "data": {
            "text/plain": [
              "[[2.5, -2.5, -1.5], [-0.5, 0.5, 0.5], [-5.5, 6.5, 3.5]]"
            ]
          },
          "metadata": {},
          "execution_count": 13
        }
      ]
    },
    {
      "cell_type": "code",
      "source": [
        "np.linalg.inv(A)"
      ],
      "metadata": {
        "colab": {
          "base_uri": "https://localhost:8080/"
        },
        "id": "TuwH6-bVmJY3",
        "outputId": "70eb07ab-953d-41ac-abf9-028401020d91"
      },
      "execution_count": null,
      "outputs": [
        {
          "output_type": "execute_result",
          "data": {
            "text/plain": [
              "array([[ 2.5, -2.5, -1.5],\n",
              "       [-0.5,  0.5,  0.5],\n",
              "       [-5.5,  6.5,  3.5]])"
            ]
          },
          "metadata": {},
          "execution_count": 14
        }
      ]
    },
    {
      "cell_type": "code",
      "source": [
        "X = np.array(A_inv).dot(b)\n",
        "X"
      ],
      "metadata": {
        "colab": {
          "base_uri": "https://localhost:8080/"
        },
        "id": "sBraisDHmOGA",
        "outputId": "8a15c3df-fc85-4803-d7b1-18ca2b326ee3"
      },
      "execution_count": null,
      "outputs": [
        {
          "output_type": "execute_result",
          "data": {
            "text/plain": [
              "array([ 2., -1.,  1.])"
            ]
          },
          "metadata": {},
          "execution_count": 15
        }
      ]
    },
    {
      "cell_type": "code",
      "source": [
        "print(np.linalg.solve(A, b))"
      ],
      "metadata": {
        "colab": {
          "base_uri": "https://localhost:8080/"
        },
        "id": "AMTP3e14mdVy",
        "outputId": "6ab2faff-ba7d-44c5-82cb-30a8815baa02"
      },
      "execution_count": null,
      "outputs": [
        {
          "output_type": "stream",
          "name": "stdout",
          "text": [
            "[ 2. -1.  1.]\n"
          ]
        }
      ]
    },
    {
      "cell_type": "markdown",
      "source": [
        "## Метод Крамера"
      ],
      "metadata": {
        "id": "j72LZYoVmdsB"
      }
    },
    {
      "cell_type": "markdown",
      "source": [
        "$\n",
        "\\begin{cases}\n",
        "3 x+2 y+ z=5 \\\\\n",
        "2 x−y+z=6 \\\\\n",
        "x+5 y=−3.\\end{cases}\n",
        "$\n"
      ],
      "metadata": {
        "id": "9QUYVSuHNe7N"
      }
    },
    {
      "cell_type": "markdown",
      "source": [
        "![picture](https://drive.google.com/uc?id=1Fp57cxg3wdzVMxwjHm4VFq4MHs8O0hwf)\n"
      ],
      "metadata": {
        "id": "vv0L2zrDNhIR"
      }
    },
    {
      "cell_type": "code",
      "source": [
        "\n",
        "\n",
        "def solve_using_kramer(A, b):\n",
        "\n",
        "    mA, mb = np.copy(A), np.copy(b)\n",
        "    n = len(mb)\n",
        "    det_A = np.linalg.det(mA)\n",
        "\n",
        "    if det_A == 0:\n",
        "        return None  # Система не має розв'язку\n",
        "\n",
        "    x = np.zeros(n)\n",
        "    for i in range(n):\n",
        "        Ai = mA.copy()\n",
        "        Ai[:, i] = mb\n",
        "        x[i] = np.linalg.det(Ai) / det_A\n",
        "\n",
        "    return x\n"
      ],
      "metadata": {
        "id": "eW5MZYgBnEHo"
      },
      "execution_count": null,
      "outputs": []
    },
    {
      "cell_type": "code",
      "source": [
        "solve_using_kramer(A, b)"
      ],
      "metadata": {
        "colab": {
          "base_uri": "https://localhost:8080/"
        },
        "id": "z1R3Dkv4qEI6",
        "outputId": "c4fe0c39-3836-489c-9660-7585834ae45b"
      },
      "execution_count": null,
      "outputs": [
        {
          "output_type": "execute_result",
          "data": {
            "text/plain": [
              "array([ 2., -1.,  1.])"
            ]
          },
          "metadata": {},
          "execution_count": 18
        }
      ]
    },
    {
      "cell_type": "markdown",
      "source": [
        "## Метод Гаусса"
      ],
      "metadata": {
        "id": "mZNwWtEv-rtw"
      }
    },
    {
      "cell_type": "markdown",
      "source": [
        "\n",
        "![picture](https://drive.google.com/uc?id=1SxnmjnSRWiiXLJEr1WYHgKlI-AUmnSCW)\n",
        "\n"
      ],
      "metadata": {
        "id": "dFPp36_3Mu_9"
      }
    },
    {
      "cell_type": "code",
      "source": [
        "def gaussian_elimination(A, b):\n",
        "    print(np.array(A))\n",
        "    print(np.array(b))\n",
        "    mA, mb = np.copy(A), np.copy(b)\n",
        "\n",
        "\n",
        "    n = len(mb)\n",
        "    for i in range(n):\n",
        "        # Пошук головного (опорного) елемента у стопцях\n",
        "        print('---- iter ----', i)\n",
        "        pivot_row = i\n",
        "        for j in range(i+1, n):\n",
        "            if abs(mA[j, i]) > abs(mA[pivot_row, i]):\n",
        "                pivot_row = j\n",
        "\n",
        "        # Перестановка строк, щоб головний елемент опинився на головній діагоналі\n",
        "        mA[[i, pivot_row]] = mA[[pivot_row, i]]\n",
        "        mb[[i, pivot_row]] = mb[[pivot_row, i]]\n",
        "        print('pivot_row', pivot_row)\n",
        "        print(np.array(mA))\n",
        "        print(np.array(mb))\n",
        "\n",
        "        # Застосування еквівалентних перетворень\n",
        "        for j in range(i+1, n):\n",
        "            factor = mA[j, i] / mA[i, i]\n",
        "            mb[j] -= factor * mb[i]\n",
        "            mA[j, i:] -= factor * mA[i, i:]\n",
        "\n",
        "    x = np.zeros(n)\n",
        "    for i in range(n-1, -1, -1):\n",
        "        x[i] = (mb[i] - np.dot(mA[i, i+1:], x[i+1:])) / mA[i, i]\n",
        "    return x, mA\n",
        "\n"
      ],
      "metadata": {
        "id": "1aTtXY8Jwcw1"
      },
      "execution_count": null,
      "outputs": []
    },
    {
      "cell_type": "code",
      "source": [
        "x, trianglA = gaussian_elimination(A, b)"
      ],
      "metadata": {
        "colab": {
          "base_uri": "https://localhost:8080/"
        },
        "id": "I_788-pVwywD",
        "outputId": "3a2be242-4239-4ad0-b611-5af07b17bc5f"
      },
      "execution_count": null,
      "outputs": [
        {
          "output_type": "stream",
          "name": "stdout",
          "text": [
            "[[ 3.  2.  1.]\n",
            " [ 2. -1.  1.]\n",
            " [ 1.  5.  0.]]\n",
            "[ 5.  6. -3.]\n",
            "---- iter ---- 0\n",
            "pivot_row 0\n",
            "[[ 3.  2.  1.]\n",
            " [ 2. -1.  1.]\n",
            " [ 1.  5.  0.]]\n",
            "[ 5.  6. -3.]\n",
            "---- iter ---- 1\n",
            "pivot_row 2\n",
            "[[ 3.          2.          1.        ]\n",
            " [ 0.          4.33333333 -0.33333333]\n",
            " [ 0.         -2.33333333  0.33333333]]\n",
            "[ 5.         -4.66666667  2.66666667]\n",
            "---- iter ---- 2\n",
            "pivot_row 2\n",
            "[[ 3.          2.          1.        ]\n",
            " [ 0.          4.33333333 -0.33333333]\n",
            " [ 0.          0.          0.15384615]]\n",
            "[ 5.         -4.66666667  0.15384615]\n"
          ]
        }
      ]
    },
    {
      "cell_type": "markdown",
      "source": [
        "#Обчислення визначника з трикутної матриці"
      ],
      "metadata": {
        "id": "VId4AHzAN-Az"
      }
    },
    {
      "cell_type": "markdown",
      "source": [
        "Трикутну матрицю, що є результатом роботи алгоритма Гаусса, можна використовувати для обчислення визначника.\n",
        "\n",
        "Адже визначник трикутної матриці дорівнює добутку діагональних елементів.\n",
        "\n",
        "Важливо! Якщо в ході роботи алгоритма Гаусса змінювався порядок строк, ще буде впливати на знак визначника. В цьому випадку добутку діагональних елементів потрібно помножити на (-1) у степені кількості перестановок строк.  "
      ],
      "metadata": {
        "id": "QD6dzO1BP6mL"
      }
    },
    {
      "cell_type": "code",
      "source": [
        "trianglA"
      ],
      "metadata": {
        "colab": {
          "base_uri": "https://localhost:8080/"
        },
        "id": "VLMsj3JdODj6",
        "outputId": "fdf02cff-1c16-440c-eb46-96b97fee7f00"
      },
      "execution_count": null,
      "outputs": [
        {
          "output_type": "execute_result",
          "data": {
            "text/plain": [
              "array([[ 3.        ,  2.        ,  1.        ],\n",
              "       [ 0.        ,  4.33333333, -0.33333333],\n",
              "       [ 0.        ,  0.        ,  0.15384615]])"
            ]
          },
          "metadata": {},
          "execution_count": 21
        }
      ]
    },
    {
      "cell_type": "code",
      "source": [
        "det = np.prod(np.diagonal(trianglA))\n",
        "det"
      ],
      "metadata": {
        "id": "KvSw_XwkPGx_",
        "colab": {
          "base_uri": "https://localhost:8080/"
        },
        "outputId": "ecb464d2-9a50-45e4-e9d1-3e094309aaba"
      },
      "execution_count": null,
      "outputs": [
        {
          "output_type": "execute_result",
          "data": {
            "text/plain": [
              "2.000000000000001"
            ]
          },
          "metadata": {},
          "execution_count": 22
        }
      ]
    },
    {
      "cell_type": "markdown",
      "source": [
        "Оскільки в попередньому прикладі роботи метода Гаусса була одна перестановка строк, отримане значення визначника потрібно помножити на $(-1)^{1}$. Тобто, відповідь: -2"
      ],
      "metadata": {
        "id": "IK2NR_aVQvBG"
      }
    }
  ]
}