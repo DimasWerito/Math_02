{
  "nbformat": 4,
  "nbformat_minor": 0,
  "metadata": {
    "colab": {
      "provenance": [],
      "authorship_tag": "ABX9TyPRmc/6UI9T2nuoCZ1Q6BWw",
      "include_colab_link": true
    },
    "kernelspec": {
      "name": "python3",
      "display_name": "Python 3"
    },
    "language_info": {
      "name": "python"
    }
  },
  "cells": [
    {
      "cell_type": "markdown",
      "metadata": {
        "id": "view-in-github",
        "colab_type": "text"
      },
      "source": [
        "<a href=\"https://colab.research.google.com/github/DimasWerito/Math_02/blob/main/Math_02.ipynb\" target=\"_parent\"><img src=\"https://colab.research.google.com/assets/colab-badge.svg\" alt=\"Open In Colab\"/></a>"
      ]
    },
    {
      "cell_type": "code",
      "execution_count": 1,
      "metadata": {
        "colab": {
          "base_uri": "https://localhost:8080/"
        },
        "id": "-DTC8q2VFhPS",
        "outputId": "74c19047-a154-49c4-edf9-86da493e6b56"
      },
      "outputs": [
        {
          "output_type": "stream",
          "name": "stdout",
          "text": [
            "-2\n"
          ]
        }
      ],
      "source": [
        "import numpy as np\n",
        "A = np.array(\n",
        "    [[1,2],\n",
        "     [3,4]]\n",
        ")\n",
        "print(round(np.linalg.det(A)))"
      ]
    },
    {
      "cell_type": "code",
      "source": [
        "import numpy as np\n",
        "A = (\n",
        "    [[4,-5,7],\n",
        "     [1,-4,9],\n",
        "     [-4,0,5]]\n",
        ")\n",
        "print(round(np.linalg.det(A)))"
      ],
      "metadata": {
        "colab": {
          "base_uri": "https://localhost:8080/"
        },
        "id": "BoybOLAgSsxP",
        "outputId": "0673e8f7-ff7d-47fe-d7b2-4b4588fa2a39"
      },
      "execution_count": 2,
      "outputs": [
        {
          "output_type": "stream",
          "name": "stdout",
          "text": [
            "13\n"
          ]
        }
      ]
    },
    {
      "cell_type": "code",
      "source": [
        "\"\"\"\n",
        "Властивість 1:\n",
        "Визначник не змінюється під час транспонування матриці.\n",
        "\"\"\"\n",
        "\n",
        "\n",
        "import numpy as np\n",
        "A = np.array(\n",
        "    [[4,-5,7],\n",
        "     [1,-4,9],\n",
        "     [-4,0,5]]\n",
        ")\n",
        "At = np.transpose(A)\n",
        "print(\"Початкова матриця А:\")\n",
        "print(A)\n",
        "print(f\"Визначник базової матриці А:{int(np.linalg.det(A))}\")\n",
        "print(At)\n",
        "print(f\"Визначник транспонованої матриці At:{int(np.linalg.det(At))}\")"
      ],
      "metadata": {
        "colab": {
          "base_uri": "https://localhost:8080/"
        },
        "id": "ccLiEbbWU4t7",
        "outputId": "c0a66cca-04ab-4088-8f31-e259a6a7dfae"
      },
      "execution_count": 3,
      "outputs": [
        {
          "output_type": "stream",
          "name": "stdout",
          "text": [
            "Початкова матриця А:\n",
            "[[ 4 -5  7]\n",
            " [ 1 -4  9]\n",
            " [-4  0  5]]\n",
            "Визначник базової матриці А:12\n",
            "[[ 4  1 -4]\n",
            " [-5 -4  0]\n",
            " [ 7  9  5]]\n",
            "Визначник транспонованої матриці At:12\n"
          ]
        }
      ]
    },
    {
      "cell_type": "code",
      "source": [
        "\"\"\"\n",
        "Властивість 2:\n",
        "Якщо матриця містить рядок, що складається з нулів, її визначник дорівнює нулю.\n",
        "\"\"\"\n",
        "\n",
        "\n",
        "import numpy as np\n",
        "A = (\n",
        "    [[2,7,1,2],\n",
        "     [6,1,3,-1],\n",
        "     [0,0,0,0],\n",
        "     [2,9,5,-1]]\n",
        ")\n",
        "print(f\"Визначник матриці А:{int(np.linalg.det(A))}\")\n"
      ],
      "metadata": {
        "colab": {
          "base_uri": "https://localhost:8080/"
        },
        "id": "VCkA1e0TW3bD",
        "outputId": "519262cb-0325-4714-d007-b913d4450cca"
      },
      "execution_count": 4,
      "outputs": [
        {
          "output_type": "stream",
          "name": "stdout",
          "text": [
            "Визначник матриці А:0\n"
          ]
        }
      ]
    },
    {
      "cell_type": "code",
      "source": [
        "\"\"\"\n",
        "Властивість 3:\n",
        "Якщо в матриці поміняти місцями якісь два рядки, то її визначник змінить знак на протилежний.\n",
        "\"\"\"\n",
        "\n",
        "\n",
        "import numpy as np\n",
        "A = np.array(\n",
        "    [[1,0,-1],\n",
        "     [11,4,7],\n",
        "     [-6,0,0]]\n",
        ")\n",
        "B = np.array(\n",
        "    [[11,4,7],\n",
        "     [1,0,-1],\n",
        "     [-6,0,0]]\n",
        ")\n",
        "print(f\"Визначник матриці A:{int(np.linalg.det(A))}\")\n",
        "print(f\"Визначник матриці B:{int(np.linalg.det(B))}\")"
      ],
      "metadata": {
        "colab": {
          "base_uri": "https://localhost:8080/"
        },
        "id": "N9Zg-xROYn4V",
        "outputId": "15c03efc-8625-435b-98c7-4701acf64faa"
      },
      "execution_count": 9,
      "outputs": [
        {
          "output_type": "stream",
          "name": "stdout",
          "text": [
            "Визначник матриці A:-24\n",
            "Визначник матриці B:24\n"
          ]
        }
      ]
    },
    {
      "cell_type": "code",
      "source": [
        "\"\"\"\n",
        "Властивість 4:\n",
        "Якщо матриця має два однакові рядки, то її визначник дорівнює 0\n",
        "\"\"\"\n",
        "\n",
        "\n",
        "import numpy as np\n",
        "A = np.array(\n",
        "    [[2,7,1,2],\n",
        "     [6,1,3,-1],\n",
        "     [2,7,1,2],\n",
        "     [2,9,5,-1]]\n",
        ")\n",
        "print(f\"Визначник матриці А:{int(np.linalg.det(A))}\")"
      ],
      "metadata": {
        "colab": {
          "base_uri": "https://localhost:8080/"
        },
        "id": "_sApOa1sb-Zu",
        "outputId": "68925ceb-6529-46a8-eae4-b1b75af6f74c"
      },
      "execution_count": 10,
      "outputs": [
        {
          "output_type": "stream",
          "name": "stdout",
          "text": [
            "Визначник матриці А:0\n"
          ]
        }
      ]
    },
    {
      "cell_type": "code",
      "source": [
        "\"\"\"\n",
        "Властивість 5:\n",
        "\n",
        "При множенні рядка матриці на число її визначник множиться на це число.\n",
        "\"\"\"\n",
        "\n",
        "\n",
        "import numpy as np\n",
        "A = np.array(\n",
        "    [[2,4,-12],\n",
        "     [10,3,0],\n",
        "     [1,-1,1]]\n",
        ")\n",
        "B = np.array(\n",
        "    [[1,2,-6],\n",
        "     [10,3,0],\n",
        "     [1,-1,1]]\n",
        ")\n",
        "print(f\"Визначник матриці А:{int(np.linalg.det(A))}\")\n",
        "print(f\"Визначник матриці B:{int(np.linalg.det(B))}\")"
      ],
      "metadata": {
        "colab": {
          "base_uri": "https://localhost:8080/"
        },
        "id": "faDqSUPWdX3z",
        "outputId": "fcbe01e9-1b14-4d90-f554-3731a0e3af6f"
      },
      "execution_count": 11,
      "outputs": [
        {
          "output_type": "stream",
          "name": "stdout",
          "text": [
            "Визначник матриці А:122\n",
            "Визначник матриці B:61\n"
          ]
        }
      ]
    },
    {
      "cell_type": "code",
      "source": [
        "\"\"\"\n",
        "Властивість 6\n",
        "\n",
        "\"\"\"\n",
        "\n",
        "\n",
        "import numpy as np\n",
        "A = np.array(\n",
        "    [[6,4,12],\n",
        "     [10,3,0],\n",
        "     [1,-1,1]]\n",
        ")\n",
        "B = np.array(\n",
        "    [[2,3,9],\n",
        "     [10,3,0],\n",
        "     [1,-1,1]]\n",
        ")\n",
        "C = np.array(\n",
        "    [[4,1,3],\n",
        "     [10,3,0],\n",
        "     [1,-1,1]]\n",
        ")\n",
        "print(f\"Визначник матриці A:{round(np.linalg.det(A))}\")\n",
        "print(f\"Визначник матриці B:{round(np.linalg.det(B))}\")\n",
        "print(f\"Визначник матриці C:{round(np.linalg.det(C))}\")"
      ],
      "metadata": {
        "colab": {
          "base_uri": "https://localhost:8080/"
        },
        "id": "bfi1IjrufPir",
        "outputId": "f6fbaf90-5c56-459a-d0ea-2c470e0e51c9"
      },
      "execution_count": 12,
      "outputs": [
        {
          "output_type": "stream",
          "name": "stdout",
          "text": [
            "Визначник матриці A:-178\n",
            "Визначник матриці B:-141\n",
            "Визначник матриці C:-37\n"
          ]
        }
      ]
    },
    {
      "cell_type": "code",
      "source": [
        "\"\"\"\n",
        "Властивість 7\n",
        "\n",
        "Якщо один із рядків матриці є лінійною комбінацією інших рядків цієї матриці, то її визначник дорівнює нулю.\n",
        "\"\"\"\n",
        "\n",
        "\n",
        "import numpy as np\n",
        "A = np.array(\n",
        "    [[2,7,-1],\n",
        "     [0,1,3],\n",
        "     [2,9,5]]\n",
        ")\n",
        "print(f\"Визначник матриці A:{round(np.linalg.det(A))}\")"
      ],
      "metadata": {
        "colab": {
          "base_uri": "https://localhost:8080/"
        },
        "id": "uxa6b9sAjO9R",
        "outputId": "db426750-98d3-41b5-e665-e9f0a396f02c"
      },
      "execution_count": 13,
      "outputs": [
        {
          "output_type": "stream",
          "name": "stdout",
          "text": [
            "Визначник матриці A:0\n"
          ]
        }
      ]
    },
    {
      "cell_type": "code",
      "source": [
        "\"\"\"\n",
        "Властивість 8\n",
        "\n",
        "Якщо до елементів рядка (стовпця) визначника додати відповідні елементи іншого рядка (стовпця), помножені на будь-яке число, то визначник не зміниться.\n",
        "\"\"\"\n",
        "\n",
        "\n",
        "import numpy as np\n",
        "A = np.array(\n",
        "    [[3,8,0],\n",
        "     [1,1,1],\n",
        "     [2,9,5]]\n",
        ")\n",
        "B = np.array(\n",
        "    [[2,7,-1],\n",
        "     [1,1,1],\n",
        "     [2,9,5]]\n",
        ")\n",
        "print(f\"Визначник матриці A:{round(np.linalg.det(A))}\")\n",
        "print(f\"Визначник матриці B:{round(np.linalg.det(B))}\")"
      ],
      "metadata": {
        "colab": {
          "base_uri": "https://localhost:8080/"
        },
        "id": "sl-kHXdGmI21",
        "outputId": "b9b7ab3b-8a8c-437a-f7b7-0c85961e16e0"
      },
      "execution_count": 14,
      "outputs": [
        {
          "output_type": "stream",
          "name": "stdout",
          "text": [
            "Визначник матриці A:-36\n",
            "Визначник матриці B:-36\n"
          ]
        }
      ]
    }
  ]
}